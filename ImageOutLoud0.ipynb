{
 "cells": [
  {
   "cell_type": "markdown",
   "id": "12c19d67",
   "metadata": {
    "id": "12c19d67"
   },
   "source": [
    "# Flickr8k Image Captioning\n",
    "\n",
    "This notebook demonstrates a simplified supervised learning pipeline using the Flickr8k dataset with PyTorch. It is a demo version for assignment purposes"
   ]
  },
  {
   "cell_type": "code",
   "execution_count": 1,
   "id": "16f8ad03",
   "metadata": {
    "colab": {
     "base_uri": "https://localhost:8080/"
    },
    "id": "16f8ad03",
    "outputId": "3f1b62da-2b63-48c1-c30a-6eb200c1e1a6"
   },
   "outputs": [
    {
     "name": "stdout",
     "output_type": "stream",
     "text": [
      "Defaulting to user installation because normal site-packages is not writeable\n",
      "Requirement already satisfied: pyttsx3 in c:\\users\\user\\appdata\\local\\packages\\pythonsoftwarefoundation.python.3.12_qbz5n2kfra8p0\\localcache\\local-packages\\python312\\site-packages (2.99)\n",
      "Requirement already satisfied: comtypes in c:\\users\\user\\appdata\\local\\packages\\pythonsoftwarefoundation.python.3.12_qbz5n2kfra8p0\\localcache\\local-packages\\python312\\site-packages (from pyttsx3) (1.4.12)\n",
      "Requirement already satisfied: pypiwin32 in c:\\users\\user\\appdata\\local\\packages\\pythonsoftwarefoundation.python.3.12_qbz5n2kfra8p0\\localcache\\local-packages\\python312\\site-packages (from pyttsx3) (223)\n",
      "Requirement already satisfied: pywin32 in c:\\users\\user\\appdata\\local\\packages\\pythonsoftwarefoundation.python.3.12_qbz5n2kfra8p0\\localcache\\local-packages\\python312\\site-packages (from pyttsx3) (306)\n",
      "Note: you may need to restart the kernel to use updated packages.\n",
      "Defaulting to user installation because normal site-packages is not writeable\n",
      "Requirement already satisfied: torchvision in c:\\users\\user\\appdata\\local\\packages\\pythonsoftwarefoundation.python.3.12_qbz5n2kfra8p0\\localcache\\local-packages\\python312\\site-packages (0.23.0)\n",
      "Requirement already satisfied: numpy in c:\\users\\user\\appdata\\local\\packages\\pythonsoftwarefoundation.python.3.12_qbz5n2kfra8p0\\localcache\\local-packages\\python312\\site-packages (from torchvision) (1.26.4)\n",
      "Requirement already satisfied: torch==2.8.0 in c:\\users\\user\\appdata\\local\\packages\\pythonsoftwarefoundation.python.3.12_qbz5n2kfra8p0\\localcache\\local-packages\\python312\\site-packages (from torchvision) (2.8.0)\n",
      "Requirement already satisfied: pillow!=8.3.*,>=5.3.0 in c:\\users\\user\\appdata\\local\\packages\\pythonsoftwarefoundation.python.3.12_qbz5n2kfra8p0\\localcache\\local-packages\\python312\\site-packages (from torchvision) (11.1.0)\n",
      "Requirement already satisfied: filelock in c:\\users\\user\\appdata\\local\\packages\\pythonsoftwarefoundation.python.3.12_qbz5n2kfra8p0\\localcache\\local-packages\\python312\\site-packages (from torch==2.8.0->torchvision) (3.19.1)\n",
      "Requirement already satisfied: typing-extensions>=4.10.0 in c:\\users\\user\\appdata\\local\\packages\\pythonsoftwarefoundation.python.3.12_qbz5n2kfra8p0\\localcache\\local-packages\\python312\\site-packages (from torch==2.8.0->torchvision) (4.13.2)\n",
      "Requirement already satisfied: sympy>=1.13.3 in c:\\users\\user\\appdata\\local\\packages\\pythonsoftwarefoundation.python.3.12_qbz5n2kfra8p0\\localcache\\local-packages\\python312\\site-packages (from torch==2.8.0->torchvision) (1.14.0)\n",
      "Requirement already satisfied: networkx in c:\\users\\user\\appdata\\local\\packages\\pythonsoftwarefoundation.python.3.12_qbz5n2kfra8p0\\localcache\\local-packages\\python312\\site-packages (from torch==2.8.0->torchvision) (3.5)\n",
      "Requirement already satisfied: jinja2 in c:\\users\\user\\appdata\\local\\packages\\pythonsoftwarefoundation.python.3.12_qbz5n2kfra8p0\\localcache\\local-packages\\python312\\site-packages (from torch==2.8.0->torchvision) (3.1.5)\n",
      "Requirement already satisfied: fsspec in c:\\users\\user\\appdata\\local\\packages\\pythonsoftwarefoundation.python.3.12_qbz5n2kfra8p0\\localcache\\local-packages\\python312\\site-packages (from torch==2.8.0->torchvision) (2025.9.0)\n",
      "Requirement already satisfied: setuptools in c:\\users\\user\\appdata\\local\\packages\\pythonsoftwarefoundation.python.3.12_qbz5n2kfra8p0\\localcache\\local-packages\\python312\\site-packages (from torch==2.8.0->torchvision) (80.9.0)\n",
      "Requirement already satisfied: mpmath<1.4,>=1.1.0 in c:\\users\\user\\appdata\\local\\packages\\pythonsoftwarefoundation.python.3.12_qbz5n2kfra8p0\\localcache\\local-packages\\python312\\site-packages (from sympy>=1.13.3->torch==2.8.0->torchvision) (1.3.0)\n",
      "Requirement already satisfied: MarkupSafe>=2.0 in c:\\users\\user\\appdata\\local\\packages\\pythonsoftwarefoundation.python.3.12_qbz5n2kfra8p0\\localcache\\local-packages\\python312\\site-packages (from jinja2->torch==2.8.0->torchvision) (3.0.2)\n",
      "Note: you may need to restart the kernel to use updated packages.\n",
      "Defaulting to user installation because normal site-packages is not writeable\n",
      "Requirement already satisfied: torch in c:\\users\\user\\appdata\\local\\packages\\pythonsoftwarefoundation.python.3.12_qbz5n2kfra8p0\\localcache\\local-packages\\python312\\site-packages (2.8.0)\n",
      "Requirement already satisfied: filelock in c:\\users\\user\\appdata\\local\\packages\\pythonsoftwarefoundation.python.3.12_qbz5n2kfra8p0\\localcache\\local-packages\\python312\\site-packages (from torch) (3.19.1)\n",
      "Requirement already satisfied: typing-extensions>=4.10.0 in c:\\users\\user\\appdata\\local\\packages\\pythonsoftwarefoundation.python.3.12_qbz5n2kfra8p0\\localcache\\local-packages\\python312\\site-packages (from torch) (4.13.2)\n",
      "Requirement already satisfied: sympy>=1.13.3 in c:\\users\\user\\appdata\\local\\packages\\pythonsoftwarefoundation.python.3.12_qbz5n2kfra8p0\\localcache\\local-packages\\python312\\site-packages (from torch) (1.14.0)\n",
      "Requirement already satisfied: networkx in c:\\users\\user\\appdata\\local\\packages\\pythonsoftwarefoundation.python.3.12_qbz5n2kfra8p0\\localcache\\local-packages\\python312\\site-packages (from torch) (3.5)\n",
      "Requirement already satisfied: jinja2 in c:\\users\\user\\appdata\\local\\packages\\pythonsoftwarefoundation.python.3.12_qbz5n2kfra8p0\\localcache\\local-packages\\python312\\site-packages (from torch) (3.1.5)\n",
      "Requirement already satisfied: fsspec in c:\\users\\user\\appdata\\local\\packages\\pythonsoftwarefoundation.python.3.12_qbz5n2kfra8p0\\localcache\\local-packages\\python312\\site-packages (from torch) (2025.9.0)\n",
      "Requirement already satisfied: setuptools in c:\\users\\user\\appdata\\local\\packages\\pythonsoftwarefoundation.python.3.12_qbz5n2kfra8p0\\localcache\\local-packages\\python312\\site-packages (from torch) (80.9.0)\n",
      "Requirement already satisfied: mpmath<1.4,>=1.1.0 in c:\\users\\user\\appdata\\local\\packages\\pythonsoftwarefoundation.python.3.12_qbz5n2kfra8p0\\localcache\\local-packages\\python312\\site-packages (from sympy>=1.13.3->torch) (1.3.0)\n",
      "Requirement already satisfied: MarkupSafe>=2.0 in c:\\users\\user\\appdata\\local\\packages\\pythonsoftwarefoundation.python.3.12_qbz5n2kfra8p0\\localcache\\local-packages\\python312\\site-packages (from jinja2->torch) (3.0.2)\n",
      "Note: you may need to restart the kernel to use updated packages.\n",
      "Defaulting to user installation because normal site-packages is not writeable\n",
      "Note: you may need to restart the kernel to use updated packages.\n"
     ]
    },
    {
     "name": "stderr",
     "output_type": "stream",
     "text": [
      "ERROR: Could not find a version that satisfies the requirement upgrade (from versions: none)\n",
      "ERROR: No matching distribution found for upgrade\n"
     ]
    },
    {
     "name": "stdout",
     "output_type": "stream",
     "text": [
      "Defaulting to user installation because normal site-packages is not writeable\n",
      "Requirement already satisfied: gTTS in c:\\users\\user\\appdata\\local\\packages\\pythonsoftwarefoundation.python.3.12_qbz5n2kfra8p0\\localcache\\local-packages\\python312\\site-packages (2.5.4)\n",
      "Requirement already satisfied: requests<3,>=2.27 in c:\\users\\user\\appdata\\local\\packages\\pythonsoftwarefoundation.python.3.12_qbz5n2kfra8p0\\localcache\\local-packages\\python312\\site-packages (from gTTS) (2.28.1)\n",
      "Requirement already satisfied: click<8.2,>=7.1 in c:\\users\\user\\appdata\\local\\packages\\pythonsoftwarefoundation.python.3.12_qbz5n2kfra8p0\\localcache\\local-packages\\python312\\site-packages (from gTTS) (8.1.8)\n",
      "Requirement already satisfied: colorama in c:\\users\\user\\appdata\\local\\packages\\pythonsoftwarefoundation.python.3.12_qbz5n2kfra8p0\\localcache\\local-packages\\python312\\site-packages (from click<8.2,>=7.1->gTTS) (0.4.6)\n",
      "Requirement already satisfied: charset-normalizer<3,>=2 in c:\\users\\user\\appdata\\local\\packages\\pythonsoftwarefoundation.python.3.12_qbz5n2kfra8p0\\localcache\\local-packages\\python312\\site-packages (from requests<3,>=2.27->gTTS) (2.1.1)\n",
      "Requirement already satisfied: idna<4,>=2.5 in c:\\users\\user\\appdata\\local\\packages\\pythonsoftwarefoundation.python.3.12_qbz5n2kfra8p0\\localcache\\local-packages\\python312\\site-packages (from requests<3,>=2.27->gTTS) (3.10)\n",
      "Requirement already satisfied: urllib3<1.27,>=1.21.1 in c:\\users\\user\\appdata\\local\\packages\\pythonsoftwarefoundation.python.3.12_qbz5n2kfra8p0\\localcache\\local-packages\\python312\\site-packages (from requests<3,>=2.27->gTTS) (1.26.20)\n",
      "Requirement already satisfied: certifi>=2017.4.17 in c:\\users\\user\\appdata\\local\\packages\\pythonsoftwarefoundation.python.3.12_qbz5n2kfra8p0\\localcache\\local-packages\\python312\\site-packages (from requests<3,>=2.27->gTTS) (2025.1.31)\n",
      "Note: you may need to restart the kernel to use updated packages.\n"
     ]
    },
    {
     "name": "stderr",
     "output_type": "stream",
     "text": [
      "[nltk_data] Downloading package punkt_tab to\n",
      "[nltk_data]     C:\\Users\\user\\AppData\\Roaming\\nltk_data...\n",
      "[nltk_data]   Package punkt_tab is already up-to-date!\n",
      "[nltk_data] Downloading package punkt to\n",
      "[nltk_data]     C:\\Users\\user\\AppData\\Roaming\\nltk_data...\n",
      "[nltk_data]   Package punkt is already up-to-date!\n"
     ]
    },
    {
     "data": {
      "text/plain": [
       "True"
      ]
     },
     "execution_count": 1,
     "metadata": {},
     "output_type": "execute_result"
    }
   ],
   "source": [
    "\n",
    "#DOWNLOAD THE FOLLOWING PACKAGES IF NOT ALREADY INSTALLED\n",
    "%pip install pyttsx3\n",
    "%pip install torchvision\n",
    "%pip install torch\n",
    "%pip install upgrade typing_extensions\n",
    "%pip install gTTS\n",
    "import nltk\n",
    "nltk.download('punkt_tab')\n",
    "nltk.download('punkt')"
   ]
  },
  {
   "cell_type": "code",
   "execution_count": null,
   "id": "HXCJa5jsewA8",
   "metadata": {
    "colab": {
     "base_uri": "https://localhost:8080/"
    },
    "id": "HXCJa5jsewA8",
    "outputId": "b01a865d-8231-446e-97c6-0e171681747c"
   },
   "outputs": [],
   "source": [
    "# Replace 'your_data_folder' with the actual path to your folder\n",
    "data_path = \"/Users/user/Desktop/Semester1/SE/archive\""
   ]
  },
  {
   "cell_type": "markdown",
   "id": "19afc0b8",
   "metadata": {
    "id": "19afc0b8"
   },
   "source": [
    "## Data Collection\n",
    "We assume you have the Flickr8k dataset downloaded:\n",
    "- `Flickr8k_Dataset/` (images)\n",
    "- `Flickr8k.token.txt` (captions)\n",
    "\n",
    "We will load and prepare a subset for quick training."
   ]
  },
  {
   "cell_type": "code",
   "execution_count": 3,
   "id": "2b466e80",
   "metadata": {
    "colab": {
     "base_uri": "https://localhost:8080/",
     "height": 206
    },
    "id": "2b466e80",
    "outputId": "e8fc002e-6393-44c8-9d82-5445d8b6efd0"
   },
   "outputs": [
    {
     "data": {
      "text/html": [
       "<div>\n",
       "<style scoped>\n",
       "    .dataframe tbody tr th:only-of-type {\n",
       "        vertical-align: middle;\n",
       "    }\n",
       "\n",
       "    .dataframe tbody tr th {\n",
       "        vertical-align: top;\n",
       "    }\n",
       "\n",
       "    .dataframe thead th {\n",
       "        text-align: right;\n",
       "    }\n",
       "</style>\n",
       "<table border=\"1\" class=\"dataframe\">\n",
       "  <thead>\n",
       "    <tr style=\"text-align: right;\">\n",
       "      <th></th>\n",
       "      <th>image</th>\n",
       "      <th>caption</th>\n",
       "    </tr>\n",
       "  </thead>\n",
       "  <tbody>\n",
       "    <tr>\n",
       "      <th>0</th>\n",
       "      <td>image</td>\n",
       "      <td>caption</td>\n",
       "    </tr>\n",
       "    <tr>\n",
       "      <th>1</th>\n",
       "      <td>1000268201_693b08cb0e.jpg</td>\n",
       "      <td>A child in a pink dress is climbing up a set o...</td>\n",
       "    </tr>\n",
       "    <tr>\n",
       "      <th>2</th>\n",
       "      <td>1000268201_693b08cb0e.jpg</td>\n",
       "      <td>A girl going into a wooden building .</td>\n",
       "    </tr>\n",
       "    <tr>\n",
       "      <th>3</th>\n",
       "      <td>1000268201_693b08cb0e.jpg</td>\n",
       "      <td>A little girl climbing into a wooden playhouse .</td>\n",
       "    </tr>\n",
       "    <tr>\n",
       "      <th>4</th>\n",
       "      <td>1000268201_693b08cb0e.jpg</td>\n",
       "      <td>A little girl climbing the stairs to her playh...</td>\n",
       "    </tr>\n",
       "  </tbody>\n",
       "</table>\n",
       "</div>"
      ],
      "text/plain": [
       "                       image  \\\n",
       "0                      image   \n",
       "1  1000268201_693b08cb0e.jpg   \n",
       "2  1000268201_693b08cb0e.jpg   \n",
       "3  1000268201_693b08cb0e.jpg   \n",
       "4  1000268201_693b08cb0e.jpg   \n",
       "\n",
       "                                             caption  \n",
       "0                                            caption  \n",
       "1  A child in a pink dress is climbing up a set o...  \n",
       "2              A girl going into a wooden building .  \n",
       "3   A little girl climbing into a wooden playhouse .  \n",
       "4  A little girl climbing the stairs to her playh...  "
      ]
     },
     "execution_count": 3,
     "metadata": {},
     "output_type": "execute_result"
    }
   ],
   "source": [
    "import os\n",
    "import pandas as pd\n",
    "from PIL import Image\n",
    "\n",
    "# Paths (adjust if needed)\n",
    "images_path = \"/Users/user/Desktop/Semester1/SE/archive/Images\"\n",
    "captions_file = \"/Users/user/Desktop/Semester1/SE/archive/captions.txt\"\n",
    "\n",
    "# Load captions (comma-separated)\n",
    "captions = pd.read_csv(captions_file, sep=',', names=['image','caption'], engine='python')\n",
    "\n",
    "# Strip whitespace in image names\n",
    "captions['image'] = captions['image'].str.strip()\n",
    "\n",
    "captions.head()\n"
   ]
  },
  {
   "cell_type": "markdown",
   "id": "ee5eaff9",
   "metadata": {
    "id": "ee5eaff9"
   },
   "source": [
    "## Data Exploration\n",
    "- **Volume**: Number of images and captions\n",
    "- **Velocity**: Static dataset (not streaming)\n",
    "- **Variety**: Images + text\n",
    "- **Veracity**: Some captions may be noisy"
   ]
  },
  {
   "cell_type": "code",
   "execution_count": 4,
   "id": "d631ba30",
   "metadata": {
    "colab": {
     "base_uri": "https://localhost:8080/"
    },
    "id": "d631ba30",
    "outputId": "b6d042c2-ab40-4025-97e0-9c34e173aabe"
   },
   "outputs": [
    {
     "name": "stdout",
     "output_type": "stream",
     "text": [
      "Unique images: 8092\n",
      "Total captions: 40456\n"
     ]
    }
   ],
   "source": [
    "n_images = len(captions['image'].unique())\n",
    "n_captions = len(captions)\n",
    "print('Unique images:', n_images)\n",
    "print('Total captions:', n_captions)\n"
   ]
  },
  {
   "cell_type": "markdown",
   "id": "fyYWZFINvNq0",
   "metadata": {
    "id": "fyYWZFINvNq0"
   },
   "source": [
    "Cleaning Filenames to Avoid FileNotFound"
   ]
  },
  {
   "cell_type": "code",
   "execution_count": 5,
   "id": "ONtp8n6xu82Z",
   "metadata": {
    "colab": {
     "base_uri": "https://localhost:8080/"
    },
    "id": "ONtp8n6xu82Z",
    "outputId": "f7aa7b9c-d5fb-4bf2-ee99-390a8427713f"
   },
   "outputs": [
    {
     "name": "stdout",
     "output_type": "stream",
     "text": [
      "Usable images: 8091\n"
     ]
    }
   ],
   "source": [
    "# Clean filenames (remove whitespace, ensure lowercase)\n",
    "captions['image'] = captions['image'].str.strip().str.lower()\n",
    "\n",
    "# Map images to actual files in directory\n",
    "available_files = {f.lower(): f for f in os.listdir(images_path)}\n",
    "\n",
    "def map_file(img):\n",
    "    return available_files.get(img, None)\n",
    "\n",
    "captions['image'] = captions['image'].apply(map_file)\n",
    "\n",
    "# Drop rows where the image wasn't found\n",
    "captions = captions.dropna(subset=['image'])\n",
    "print(\"Usable images:\", captions['image'].nunique())\n"
   ]
  },
  {
   "cell_type": "markdown",
   "id": "6e9f522a",
   "metadata": {
    "id": "6e9f522a"
   },
   "source": [
    "## Preprocessing\n",
    "- Transform images (resize, normalize)\n",
    "- Tokenize captions\n",
    "- Build vocabulary\n",
    "- Split into train/dev/test"
   ]
  },
  {
   "cell_type": "code",
   "execution_count": 6,
   "id": "c651b97d",
   "metadata": {
    "colab": {
     "base_uri": "https://localhost:8080/"
    },
    "id": "c651b97d",
    "outputId": "dc4fb9dd-f764-49ea-fe4e-54a778e6f6fd"
   },
   "outputs": [
    {
     "name": "stdout",
     "output_type": "stream",
     "text": [
      "\n",
      "Train DataFrame Head after splitting:\n",
      "                       image  \\\n",
      "0  2921112724_5cb85d7413.jpg   \n",
      "1  3225998968_ef786d86e0.jpg   \n",
      "2  1456393634_74022d9056.jpg   \n",
      "3  3474406285_01f3d24b71.jpg   \n",
      "4  2847615962_c330bded6e.jpg   \n",
      "\n",
      "                                             caption  \\\n",
      "0  A man riding a three wheeled vehicle topples o...   \n",
      "1  A man on skis on a snow-covered hill with moun...   \n",
      "2             A boy doing a handstand on the beach .   \n",
      "3  a brown dog jumping over a blue and yellow sti...   \n",
      "4            A dog lays on a mattress on the porch .   \n",
      "\n",
      "                                              tokens  \\\n",
      "0  [A, man, riding, a, three, wheeled, vehicle, t...   \n",
      "1  [A, man, on, skis, on, a, snow-covered, hill, ...   \n",
      "2   [A, boy, doing, a, handstand, on, the, beach, .]   \n",
      "3  [a, brown, dog, jumping, over, a, blue, and, y...   \n",
      "4  [A, dog, lays, on, a, mattress, on, the, porch...   \n",
      "\n",
      "                                             encoded  \n",
      "0  [1, 10, 78, 1, 96, 426, 355, 873, 57, 2, 0, 0,...  \n",
      "1  [1, 10, 5, 152, 5, 1, 516, 154, 11, 224, 3, 4,...  \n",
      "2  [1, 12, 99, 1, 323, 5, 4, 49, 2, 0, 0, 0, 0, 0...  \n",
      "3  [1, 16, 8, 26, 57, 1, 36, 7, 48, 142, 2, 0, 0,...  \n",
      "4  [1, 8, 553, 5, 1, 554, 5, 4, 555, 2, 0, 0, 0, ...  \n"
     ]
    }
   ],
   "source": [
    "import torch\n",
    "from torch.utils.data import Dataset, DataLoader\n",
    "import torchvision.transforms as transforms\n",
    "from collections import Counter\n",
    "\n",
    "# Subset for demo\n",
    "# Reset index after groupby to ensure clean index for sampling\n",
    "captions_subset = captions.groupby('image').head(1).reset_index(drop=True).sample(500, random_state=42).reset_index(drop=True)\n",
    "\n",
    "\n",
    "# Image transform\n",
    "transform = transforms.Compose([\n",
    "    transforms.Resize((224,224)),\n",
    "    transforms.ToTensor(),\n",
    "    transforms.Normalize((0.485,0.456,0.406),(0.229,0.224,0.225))\n",
    "])\n",
    "\n",
    "# Tokenize captions\n",
    "captions_subset['tokens'] = captions_subset['caption'].astype(str).apply(nltk.word_tokenize)\n",
    "\n",
    "# Build vocab\n",
    "all_tokens = [tok.lower() for tokens in captions_subset['tokens'] for tok in tokens]\n",
    "vocab = {word:i+1 for i, (word,_) in enumerate(Counter(all_tokens).most_common(1000))}\n",
    "vocab['<PAD>'] = 0\n",
    "\n",
    "# Encode captions\n",
    "def encode_caption(tokens, max_len=15):\n",
    "    ids = [vocab.get(tok.lower(),0) for tok in tokens]\n",
    "    ids = ids[:max_len] + [0]*(max_len-len(ids))\n",
    "    return ids\n",
    "\n",
    "captions_subset['encoded'] = captions_subset['tokens'].apply(lambda x: encode_caption(x))\n",
    "\n",
    "# Split train/dev/test\n",
    "train_df = captions_subset.sample(frac=0.7, random_state=42).reset_index(drop=True)\n",
    "temp_df = captions_subset.drop(train_df.index).reset_index(drop=True)\n",
    "dev_df = temp_df.sample(frac=0.5, random_state=42).reset_index(drop=True)\n",
    "test_df = temp_df.drop(dev_df.index).reset_index(drop=True)\n",
    "\n",
    "print(\"\\nTrain DataFrame Head after splitting:\")\n",
    "print(train_df.head())\n",
    "\n",
    "# Simple Dataset\n",
    "class FlickrDataset(Dataset):\n",
    "    def __init__(self, df, img_path, transform=None):\n",
    "        self.df = df\n",
    "        self.img_path = img_path\n",
    "        self.transform = transform\n",
    "    def __len__(self):\n",
    "        return len(self.df)\n",
    "    def __getitem__(self, idx):\n",
    "        row = self.df.iloc[idx]\n",
    "        img = Image.open(os.path.join(self.img_path, row['image'])).convert('RGB')\n",
    "        if self.transform:\n",
    "            img = self.transform(img)\n",
    "        caption = torch.tensor(row['encoded'])\n",
    "        return img, caption\n",
    "\n",
    "# Suppose vocab is a dict: {word: idx}\n",
    "inv_vocab = {idx: word for word, idx in vocab.items()}\n",
    "\n",
    "\n",
    "train_data = FlickrDataset(train_df, images_path, transform)\n",
    "dev_data = FlickrDataset(dev_df, images_path, transform)\n",
    "test_data = FlickrDataset(test_df, images_path, transform)\n",
    "\n",
    "train_loader = DataLoader(train_data, batch_size=16, shuffle=True)\n",
    "dev_loader = DataLoader(dev_data, batch_size=16)"
   ]
  },
  {
   "cell_type": "markdown",
   "id": "301fb8f3",
   "metadata": {
    "id": "301fb8f3"
   },
   "source": [
    "## Model\n",
    "We use a pretrained ResNet as the encoder and an LSTM as the decoder. This is simplified for demo."
   ]
  },
  {
   "cell_type": "code",
   "execution_count": 7,
   "id": "fbd3e912",
   "metadata": {
    "colab": {
     "base_uri": "https://localhost:8080/"
    },
    "id": "fbd3e912",
    "outputId": "62eedb84-8f18-4779-e724-e046395c0f95"
   },
   "outputs": [],
   "source": [
    "import torch.nn as nn\n",
    "import torchvision.models as models\n",
    "import torch.optim as optim\n",
    "\n",
    "class EncoderCNN(nn.Module):\n",
    "    def __init__(self, embed_size):\n",
    "        super().__init__()\n",
    "        resnet = models.resnet18(weights=models.ResNet18_Weights.DEFAULT)\n",
    "        modules = list(resnet.children())[:-1]\n",
    "        self.resnet = nn.Sequential(*modules)\n",
    "        self.linear = nn.Linear(resnet.fc.in_features, embed_size)\n",
    "    def forward(self, images):\n",
    "        with torch.no_grad():\n",
    "            features = self.resnet(images).squeeze()\n",
    "        features = self.linear(features)\n",
    "        return features\n",
    "\n",
    "class DecoderRNN(nn.Module):\n",
    "    def __init__(self, embed_size, hidden_size, vocab_size, num_layers=1):\n",
    "        super().__init__()\n",
    "        self.embed = nn.Embedding(vocab_size, embed_size)\n",
    "        self.lstm = nn.LSTM(embed_size, hidden_size, num_layers, batch_first=True)\n",
    "        self.linear = nn.Linear(hidden_size, vocab_size)\n",
    "    def forward(self, features, captions):\n",
    "        embeddings = self.embed(captions)\n",
    "        embeddings = torch.cat((features.unsqueeze(1), embeddings), 1)\n",
    "        hiddens,_ = self.lstm(embeddings)\n",
    "        outputs = self.linear(hiddens)\n",
    "        return outputs\n",
    "\n",
    "embed_size = 128\n",
    "hidden_size = 256\n",
    "vocab_size = len(vocab)\n",
    "\n",
    "encoder = EncoderCNN(embed_size)\n",
    "decoder = DecoderRNN(embed_size, hidden_size, vocab_size)\n",
    "\n",
    "\n",
    "device = torch.device('cuda' if torch.cuda.is_available() else 'cpu')\n",
    "encoder, decoder = encoder.to(device), decoder.to(device)\n",
    "\n",
    "criterion = nn.CrossEntropyLoss(ignore_index=0)\n",
    "params = list(decoder.parameters()) + list(encoder.linear.parameters())\n",
    "optimizer = optim.Adam(params, lr=0.001)"
   ]
  },
  {
   "cell_type": "code",
   "execution_count": 8,
   "id": "cd605c3c",
   "metadata": {},
   "outputs": [],
   "source": [
    "#testing algorithm\n",
    "from nltk.translate.bleu_score import sentence_bleu, SmoothingFunction\n",
    "\n",
    "smooth = SmoothingFunction().method1\n",
    "\n",
    "def evaluate_bleu(loader, n=5):\n",
    "    encoder.eval(); decoder.eval()\n",
    "    scores = []\n",
    "    with torch.no_grad():\n",
    "        for i, (imgs, caps) in enumerate(loader):\n",
    "            if i >= n: break\n",
    "            imgs, caps = imgs.to(device), caps.to(device)\n",
    "            feats = encoder(imgs)\n",
    "            outputs = decoder(feats, caps[:, :-1])\n",
    "            preds = outputs.argmax(2).cpu().numpy()\n",
    "            refs = caps.cpu().numpy()\n",
    "\n",
    "            for r, p in zip(refs, preds):\n",
    "                ref_caption = [inv_vocab.get(idx, '') for idx in r if idx not in [0,1,2]]\n",
    "                hyp_caption = [inv_vocab.get(idx, '') for idx in p if idx not in [0,1,2]]\n",
    "                ref_caption = [w for w in ref_caption if w]\n",
    "                hyp_caption = [w for w in hyp_caption if w]\n",
    "\n",
    "                if hyp_caption:\n",
    "                    score = sentence_bleu([ref_caption], hyp_caption,\n",
    "                                          smoothing_function=smooth, weights=(0.25,0.25,0.25,0.25))  # BLEU-1\n",
    "                    scores.append(score)\n",
    "\n",
    "    return sum(scores) / len(scores) if scores else 0\n"
   ]
  },
  {
   "cell_type": "markdown",
   "id": "c04ec262",
   "metadata": {
    "id": "c04ec262"
   },
   "source": [
    "## Training & testing"
   ]
  },
  {
   "cell_type": "code",
   "execution_count": 9,
   "id": "19f68dff",
   "metadata": {},
   "outputs": [
    {
     "name": "stdout",
     "output_type": "stream",
     "text": [
      "Epoch 0, Loss: 4.8334, BLEU: 0.0000, Time: 20.07s\n",
      "Epoch 1, Loss: 4.5258, BLEU: 0.0043, Time: 19.79s\n",
      "Epoch 10, Loss: 4.5517, BLEU: 0.0137, Time: 19.56s\n",
      "Epoch 20, Loss: 3.9177, BLEU: 0.0174, Time: 19.57s\n",
      "Epoch 30, Loss: 3.6529, BLEU: 0.0226, Time: 19.54s\n",
      "Epoch 40, Loss: 3.8143, BLEU: 0.0265, Time: 19.47s\n",
      "Epoch 50, Loss: 3.5336, BLEU: 0.0304, Time: 19.97s\n",
      "Epoch 60, Loss: 3.2550, BLEU: 0.0342, Time: 19.57s\n",
      "Epoch 70, Loss: 3.2477, BLEU: 0.0392, Time: 19.58s\n",
      "Epoch 80, Loss: 3.0365, BLEU: 0.0376, Time: 19.64s\n",
      "Epoch 90, Loss: 3.0792, BLEU: 0.0457, Time: 19.40s\n",
      "Epoch 100, Loss: 2.7288, BLEU: 0.0530, Time: 20.09s\n",
      "Epoch 110, Loss: 2.5070, BLEU: 0.0593, Time: 19.36s\n",
      "Epoch 120, Loss: 2.5691, BLEU: 0.0579, Time: 19.66s\n",
      "Epoch 130, Loss: 2.2199, BLEU: 0.0595, Time: 19.58s\n",
      "Epoch 140, Loss: 2.3740, BLEU: 0.0742, Time: 19.44s\n",
      "Epoch 150, Loss: 1.9993, BLEU: 0.0907, Time: 19.49s\n",
      "Epoch 160, Loss: 2.0652, BLEU: 0.1193, Time: 19.50s\n",
      "Epoch 170, Loss: 1.8818, BLEU: 0.1452, Time: 19.44s\n",
      "Epoch 180, Loss: 1.7779, BLEU: 0.1693, Time: 19.37s\n",
      "Epoch 190, Loss: 1.7070, BLEU: 0.2166, Time: 19.49s\n",
      "Epoch 200, Loss: 1.6242, BLEU: 0.2394, Time: 19.40s\n",
      "Training time (s): 431.00733971595764\n",
      "Losses per epoch: [4.8333563804626465, 4.525755405426025, 4.551673889160156, 3.917684316635132, 3.6529228687286377, 3.814324378967285, 3.5335516929626465, 3.2549543380737305, 3.2476985454559326, 3.0364625453948975, 3.079218864440918, 2.728816270828247, 2.5070481300354004, 2.5690982341766357, 2.2199254035949707, 2.373950481414795, 1.9993427991867065, 2.0652217864990234, 1.8818219900131226, 1.7779219150543213, 1.7070471048355103, 1.62420654296875]\n",
      "BLEU per epoch: [0, 0.004272200471955569, 0.013706717018541191, 0.017395805203145175, 0.022633183207076482, 0.02645112026623806, 0.03037505166460796, 0.034236603344288255, 0.039167058933409396, 0.037608942748854915, 0.04571834514740754, 0.05303273451358569, 0.05934062852546221, 0.057878839527861166, 0.059465808612913874, 0.07422458298548369, 0.09068695678964529, 0.11932027420596351, 0.14523451883941021, 0.16929623823374182, 0.21657695088534878, 0.2394463346886873]\n",
      "Best epoch based on BLEU: 21 with BLEU: 0.2394\n"
     ]
    },
    {
     "data": {
      "image/png": "[encoded data removed]",
      "text/plain": [
       "<Figure size 1000x400 with 2 Axes>"
      ]
     },
     "metadata": {},
     "output_type": "display_data"
    }
   ],
   "source": [
    "import matplotlib.pyplot as plt\n",
    "import time\n",
    "\n",
    "epoch_losses = []\n",
    "epoch_bleus = []\n",
    "epoch_times = []\n",
    "\n",
    "for epoch in range(201):\n",
    "    if epoch == 1 or epoch % 10 == 0 or epoch == 200:\n",
    "        start_epoch = time.time()\n",
    "        encoder.train(); decoder.train()\n",
    "        for imgs, caps in train_loader:\n",
    "            imgs, caps = imgs.to(device), caps.to(device)\n",
    "            feats = encoder(imgs)\n",
    "            outputs = decoder(feats, caps[:,:-1])\n",
    "            loss = criterion(outputs.reshape(-1, vocab_size), caps.reshape(-1))\n",
    "            optimizer.zero_grad(); loss.backward(); optimizer.step()\n",
    "        epoch_time = time.time() - start_epoch\n",
    "        epoch_losses.append(loss.item())\n",
    "        epoch_times.append(epoch_time)\n",
    "        \n",
    "        # Evaluate BLEU on dev set after each epoch\n",
    "        bleu = evaluate_bleu(dev_loader)\n",
    "        epoch_bleus.append(bleu)\n",
    "        \n",
    "        print(f'Epoch {epoch}, Loss: {loss.item():.4f}, BLEU: {bleu:.4f}, Time: {epoch_time:.2f}s')\n",
    "\n",
    "print('Training time (s):', sum(epoch_times))\n",
    "print('Losses per epoch:', epoch_losses)\n",
    "print('BLEU per epoch:', epoch_bleus)\n",
    "\n",
    "best_epoch = epoch_bleus.index(max(epoch_bleus))\n",
    "print(f'Best epoch based on BLEU: {best_epoch} with BLEU: {max(epoch_bleus):.4f}')\n",
    "\n",
    "# Plotting loss and BLEU score per epoch\n",
    "plt.figure(figsize=(10,4))\n",
    "plt.subplot(1,2,1)\n",
    "plt.plot(epoch_losses, marker='o')\n",
    "plt.title('Loss per Epoch')\n",
    "plt.xlabel('Epoch')\n",
    "plt.ylabel('Loss')\n",
    "\n",
    "plt.subplot(1,2,2)\n",
    "plt.plot(epoch_bleus, marker='o', color='orange')\n",
    "plt.title('BLEU per Epoch')\n",
    "plt.xlabel('Epoch')\n",
    "plt.ylabel('BLEU Score')\n",
    "\n",
    "plt.tight_layout()\n",
    "plt.show()"
   ]
  },
  {
   "cell_type": "code",
   "execution_count": 10,
   "id": "75b84cc9",
   "metadata": {},
   "outputs": [
    {
     "name": "stdout",
     "output_type": "stream",
     "text": [
      "Training time (s): 405.3822410106659\n",
      "Losses per epoch: [1.4736568927764893, 1.417759895324707, 1.2883589267730713, 1.3056793212890625, 1.220600962638855, 1.1154481172561646, 1.0638712644577026, 0.9946982860565186, 0.9647657871246338, 0.8584160208702087, 0.8547359108924866, 0.8364453315734863, 0.8079159259796143, 0.7421746253967285, 0.7474983334541321, 0.7142597436904907, 0.660817563533783, 0.6636509299278259, 0.6572880744934082, 0.5746613144874573, 0.6967605948448181]\n",
      "BLEU per epoch: [0.25026688109197764, 0.290951278313491, 0.32202468854417804, 0.3511216114298529, 0.362960847057604, 0.3712125106552437, 0.39286557725554155, 0.40177070260802206, 0.4050667800900238, 0.41792321683153993, 0.41716458737231205, 0.415276111177467, 0.43194839293619014, 0.42772074061869225, 0.4234204450405203, 0.44543817703576016, 0.42994526498096985, 0.44210191976395985, 0.43496331464128996, 0.4439138480242976, 0.451287020732071]\n"
     ]
    }
   ],
   "source": [
    "#training with best epoch number\n",
    "\n",
    "import torch.optim as optim\n",
    "import time\n",
    "\n",
    "epoch_losses = []\n",
    "epoch_bleus = []\n",
    "epoch_times = []\n",
    "\n",
    "for epoch in range(best_epoch):\n",
    "    start_epoch = time.time()\n",
    "    encoder.train(); decoder.train()\n",
    "    for imgs, caps in train_loader:\n",
    "        imgs, caps = imgs.to(device), caps.to(device)\n",
    "        feats = encoder(imgs)\n",
    "        outputs = decoder(feats, caps[:,:-1])\n",
    "        loss = criterion(outputs.reshape(-1, vocab_size), caps.reshape(-1))\n",
    "        optimizer.zero_grad(); loss.backward(); optimizer.step()\n",
    "    epoch_time = time.time() - start_epoch\n",
    "    epoch_losses.append(loss.item())\n",
    "    epoch_times.append(epoch_time)\n",
    "    \n",
    "    # Evaluate BLEU on dev set after each epoch\n",
    "    bleu = evaluate_bleu(dev_loader)\n",
    "    epoch_bleus.append(bleu)\n",
    "\n",
    "print('Training time (s):', sum(epoch_times))\n",
    "print('Losses per epoch:', epoch_losses)\n",
    "print('BLEU per epoch:', epoch_bleus)"
   ]
  },
  {
   "cell_type": "code",
   "execution_count": 11,
   "id": "d203dcf5",
   "metadata": {},
   "outputs": [],
   "source": [
    "# After training\n",
    "torch.save({\n",
    "    'encoder_state_dict': encoder.state_dict(),\n",
    "    'decoder_state_dict': decoder.state_dict(),\n",
    "    'optimizer_state_dict': optimizer.state_dict(),\n",
    "    'epoch': epoch,\n",
    "    'loss': epoch_losses\n",
    "}, \"captioning_model.pth\")"
   ]
  },
  {
   "cell_type": "code",
   "execution_count": 12,
   "id": "e047b111",
   "metadata": {},
   "outputs": [],
   "source": [
    "checkpoint = torch.load(\"captioning_model.pth\", map_location=device)\n",
    "\n",
    "encoder = EncoderCNN(embed_size)   # re-init your model\n",
    "decoder = DecoderRNN(embed_size, hidden_size, vocab_size, num_layers=1)\n",
    "\n",
    "encoder.load_state_dict(checkpoint['encoder_state_dict'])\n",
    "decoder.load_state_dict(checkpoint['decoder_state_dict'])\n",
    "\n",
    "# Optional: restore optimizer & epoch\n",
    "optimizer = optim.Adam(list(decoder.parameters()) + list(encoder.linear.parameters()))\n",
    "optimizer.load_state_dict(checkpoint['optimizer_state_dict'])\n",
    "start_epoch = checkpoint['epoch'] + 1\n"
   ]
  },
  {
   "cell_type": "markdown",
   "id": "83ab2f32",
   "metadata": {},
   "source": [
    "## change output to text"
   ]
  },
  {
   "cell_type": "code",
   "execution_count": 13,
   "id": "9d2e6926",
   "metadata": {},
   "outputs": [
    {
     "name": "stdout",
     "output_type": "stream",
     "text": [
      "Generated Caption 1: a man girl is eating a peach . . . . . . . .\n",
      "Generated Caption 2: a man of people is the street at night . . . . . .\n",
      "Generated Caption 3: a brown dog in up some dust as he runs around a field . .\n",
      "Generated Caption 4: a man in playing a boat while . . . . . . . .\n",
      "Generated Caption 5: a man leaning on a dock by the water hugging . . . . .\n",
      "Generated Caption 6: a man each sitting on a rock in front of a street . . .\n",
      "Generated Caption 7: a man is riding along a white line in a busy city center . .\n",
      "Generated Caption 8: a brown in basketball a pile of dead leaves . . . . . .\n",
      "Generated Caption 9: a brown dog steps onto a log . . . . . . . .\n",
      "Generated Caption 10: a man is sitting on and playing with smooth rocks . . . . .\n",
      "Generated Caption 11: a man in near a fence . . . . . . . . .\n",
      "Generated Caption 12: a man in a red kayak paddles as an orange kayak approaches from behind .\n",
      "Generated Caption 13: a man wearing jumping a horizontal wooden structure with a in front of him .\n",
      "Generated Caption 14: a man climber jumping off a cliff into some water . . . . .\n"
     ]
    }
   ],
   "source": [
    "import numpy as np\n",
    "\n",
    "# Suppose outputs is a tensor of shape [batch_size, seq_len, vocab_size]\n",
    "batch_size = outputs.shape[0]\n",
    "\n",
    "captions_text = []\n",
    "for idx in range(batch_size):\n",
    "    pred_indices = outputs[idx].argmax(dim=1).cpu().numpy()\n",
    "    caption_words = [inv_vocab.get(j, '') for j in pred_indices if j != 0]\n",
    "    caption_text = ' '.join(caption_words)\n",
    "    captions_text.append(caption_text)\n",
    "    print(f\"Generated Caption {idx+1}:\", caption_text)\n",
    "\n",
    "# captions_text now contains all generated text descriptions, ready for gTTS"
   ]
  },
  {
   "cell_type": "code",
   "execution_count": 14,
   "id": "e7fb0863",
   "metadata": {},
   "outputs": [
    {
     "name": "stdout",
     "output_type": "stream",
     "text": [
      "Generated Caption 1: a man in sitting a a volleyball and . a . . . . .\n",
      "Generated Caption 2: a man in a pink leotard is leaping through the air . . . .\n",
      "Generated Caption 3: a man in a a large , with with on . . . . .\n",
      "Generated Caption 4: a man girl in a swimsuit is in midair on a sunny day . .\n",
      "Generated Caption 5: a man in playing a playing a dock subway the train with slide dog .\n",
      "Generated Caption 6: a dogs are on a sidewalk of a sleek . arms orange . . .\n",
      "Generated Caption 7: a man in a bounces on a bed bed . . . . . .\n",
      "Generated Caption 8: a man is skis on a rail at night . . . . . .\n",
      "Generated Caption 9: a man leaning over a concrete railing inside of a building . . . .\n",
      "Generated Caption 10: a brown dog is a wooden . . . . . . . . .\n",
      "Generated Caption 11: a man of people are standing in a red and and . . . .\n",
      "Generated Caption 12: a man man jumping off a cliff into some water . . . . .\n",
      "Generated Caption 13: a man makes through the air in front of a mountainous landscape . . .\n",
      "Generated Caption 14: a man girl with a blue shirt is wearing a helmet and riding a two\n",
      "Generated Caption 15: a man in off a ramp on a snowboard . . . . . .\n",
      "Generated Caption 16: a man skateboards down railings of a large set of stairs . . . .\n",
      "Generated Caption 17: a dog a a on . . . . . . . . . .\n",
      "Generated Caption 18: a brown dog in a snow has something hot pink in its mouth . .\n",
      "Generated Caption 19: a man snowboarder wearing off the back of a large set range . . .\n",
      "Generated Caption 20: a man rider hangs on tightly to a rope around a large , bucking bull\n",
      "Generated Caption 21: a man in in yellow on . a pool . . . . . .\n",
      "Generated Caption 22: a brown dog in in in . in a . . . . . .\n",
      "Generated Caption 23: a man in ready to hit the tennis ball . . . . . .\n",
      "Generated Caption 24: a man in a walks riding on a red on a wall . . .\n",
      "Generated Caption 25: a man man in his pajamas is looking toward the sky while walking on the\n",
      "Generated Caption 26: a man in a fairy costume rides a tricycle . . . . . .\n",
      "Generated Caption 27: a brown dog is attempting to catch a red ball . . . . .\n",
      "Generated Caption 28: a man rider in a red and black outfit is jumping on his motorcycle .\n",
      "Generated Caption 29: a man in near buildings . . . . . . . . . .\n",
      "Generated Caption 30: a man rider jumps off a ramp . . . . . . . .\n",
      "Generated Caption 31: two boys stand in front of the building . . . . . . .\n",
      "Generated Caption 32: a man of people stand are standing on a a a . . . a\n",
      "Generated Caption 33: a man in splashed a his surfboard . his . . . . . .\n",
      "Generated Caption 34: a man man sitting around the grass . . . . . . . .\n",
      "Generated Caption 35: a man in a trick . . . . . . . . . .\n",
      "Generated Caption 36: two girls women can be seen from a car talking next to a wall .\n",
      "Generated Caption 37: a man catches a wave on his surfboard . . . . . . .\n",
      "Generated Caption 38: two automobiles are laying in the ocean close to the beach . . . .\n",
      "Generated Caption 39: a man man in on a large . . . . . . . .\n",
      "Generated Caption 40: a brown dog white dog is running on a white marker in a grassy field\n",
      "Generated Caption 41: a man walking wearing a string bikini towards a man in a striped shirt .\n",
      "Generated Caption 42: a man in near on a a . . . . . . . .\n",
      "Generated Caption 43: a man player aims on keeping the ball from other players . . . .\n",
      "Generated Caption 44: a man in in in on on the rock on . . . . .\n",
      "Generated Caption 45: a black dog white dog jumping in the air in a grassy area in front\n",
      "Generated Caption 46: two players wearing orange uniforms are tackling a player in a white uniform uniform holding\n",
      "Generated Caption 47: a dog dog is running down a vacant road . . . . . .\n",
      "Generated Caption 48: a man man man is standing by the beer pumps at the bar . .\n",
      "Generated Caption 49: a man biker rider in a a a play . . . . . .\n",
      "Generated Caption 50: a man player aims another player . . . . . . . . .\n",
      "Generated Caption 51: a man climber with a white shirt is scaling a stone cliff . . .\n",
      "Generated Caption 52: two man in a yellow shirt is trick while running man in the . .\n",
      "Generated Caption 53: a man wearing jumping a horizontal wooden structure with a in front of him .\n",
      "Generated Caption 54: a man is their head out of a tent set up in a snowy field\n",
      "Generated Caption 55: a brown is playing out to with with his surfboard in hand . . .\n",
      "Generated Caption 56: a man of people stands in standing in . . . . . . .\n",
      "Generated Caption 57: a man ice in a of black and on the sidewalk for a train .\n",
      "Generated Caption 58: a man in a white snowsuit hat jumping a . the snowy . . .\n",
      "Generated Caption 59: a brown is along a field . . . . . . . . .\n",
      "Generated Caption 60: three girls and and a few get get splashed by an off camera . .\n",
      "Generated Caption 61: a brown and white dog is on a . . . . . . .\n",
      "Generated Caption 62: a man skateboards a shorts is the is holding another head and the and .\n",
      "Generated Caption 63: a brown dog in a pink shirt runs through a field . . . .\n",
      "Generated Caption 64: a man in the the the beach . . . . . . . .\n",
      "Generated Caption 65: a man in a yellow of holding up a field of wood . . .\n",
      "Generated Caption 66: three opposing wrestler is jumping off the top of onto another wrestler . . .\n",
      "Generated Caption 67: a brown and white dog is a pink collar is jumping at a brown dog\n",
      "Generated Caption 68: a man has sitting out and the the field . . . . . .\n",
      "Generated Caption 69: a man in a in for the camera while another man looks on . .\n",
      "Generated Caption 70: a man in wielding a jumping stunt on a bicycle in a run down street\n",
      "Generated Caption 71: a man in a large hugging two girls dressed in girls . . . .\n",
      "Generated Caption 72: a man in a green is a white ball . ball . wood stick .\n",
      "Generated Caption 73: a man has been and the the air and a . . . . .\n",
      "Generated Caption 74: a brown dog white dog is running on the grass . . a . .\n",
      "Generated Caption 75: a man in playing on a rock with with with a beach . . .\n"
     ]
    }
   ],
   "source": [
    "test_loader = DataLoader(test_data, batch_size=16)\n",
    "captions_text = []\n",
    "encoder.eval(); decoder.eval()\n",
    "with torch.no_grad():\n",
    "    for imgs, caps in test_loader:\n",
    "        imgs = imgs.to(device)\n",
    "        feats = encoder(imgs)\n",
    "        outputs = decoder(feats, caps[:,:-1].to(device))\n",
    "        batch_size = outputs.shape[0]\n",
    "        for idx in range(batch_size):\n",
    "            pred_indices = outputs[idx].argmax(dim=1).cpu().numpy()\n",
    "            caption_words = [inv_vocab.get(j, '') for j in pred_indices if j != 0]\n",
    "            caption_text = ' '.join(caption_words)\n",
    "            captions_text.append(caption_text)\n",
    "            print(f\"Generated Caption {len(captions_text)}:\", caption_text)\n",
    "\n",
    "# captions_text now contains all generated captions for the test set"
   ]
  },
  {
   "cell_type": "markdown",
   "id": "4d7e0155",
   "metadata": {},
   "source": [
    "## Google text to speech"
   ]
  },
  {
   "cell_type": "code",
   "execution_count": 15,
   "id": "dc8dacd7",
   "metadata": {},
   "outputs": [
    {
     "ename": "FileNotFoundError",
     "evalue": "[Errno 2] No such file or directory: 'training_metrics.json'",
     "output_type": "error",
     "traceback": [
      "\u001b[1;31m---------------------------------------------------------------------------\u001b[0m",
      "\u001b[1;31mFileNotFoundError\u001b[0m                         Traceback (most recent call last)",
      "Cell \u001b[1;32mIn[15], line 4\u001b[0m\n\u001b[0;32m      1\u001b[0m \u001b[38;5;28;01mimport\u001b[39;00m \u001b[38;5;21;01mjson\u001b[39;00m\n\u001b[0;32m      3\u001b[0m \u001b[38;5;66;03m# Load existing metrics from file\u001b[39;00m\n\u001b[1;32m----> 4\u001b[0m \u001b[38;5;28;01mwith\u001b[39;00m \u001b[38;5;28;43mopen\u001b[39;49m\u001b[43m(\u001b[49m\u001b[38;5;124;43m\"\u001b[39;49m\u001b[38;5;124;43mtraining_metrics.json\u001b[39;49m\u001b[38;5;124;43m\"\u001b[39;49m\u001b[43m,\u001b[49m\u001b[43m \u001b[49m\u001b[38;5;124;43m\"\u001b[39;49m\u001b[38;5;124;43mr\u001b[39;49m\u001b[38;5;124;43m\"\u001b[39;49m\u001b[43m)\u001b[49m \u001b[38;5;28;01mas\u001b[39;00m f:\n\u001b[0;32m      5\u001b[0m     metrics_data \u001b[38;5;241m=\u001b[39m json\u001b[38;5;241m.\u001b[39mload(f)\n\u001b[0;32m      7\u001b[0m \u001b[38;5;66;03m# Append new items\u001b[39;00m\n",
      "File \u001b[1;32m~\\AppData\\Local\\Packages\\PythonSoftwareFoundation.Python.3.12_qbz5n2kfra8p0\\LocalCache\\local-packages\\Python312\\site-packages\\IPython\\core\\interactiveshell.py:324\u001b[0m, in \u001b[0;36m_modified_open\u001b[1;34m(file, *args, **kwargs)\u001b[0m\n\u001b[0;32m    317\u001b[0m \u001b[38;5;28;01mif\u001b[39;00m file \u001b[38;5;129;01min\u001b[39;00m {\u001b[38;5;241m0\u001b[39m, \u001b[38;5;241m1\u001b[39m, \u001b[38;5;241m2\u001b[39m}:\n\u001b[0;32m    318\u001b[0m     \u001b[38;5;28;01mraise\u001b[39;00m \u001b[38;5;167;01mValueError\u001b[39;00m(\n\u001b[0;32m    319\u001b[0m         \u001b[38;5;124mf\u001b[39m\u001b[38;5;124m\"\u001b[39m\u001b[38;5;124mIPython won\u001b[39m\u001b[38;5;124m'\u001b[39m\u001b[38;5;124mt let you open fd=\u001b[39m\u001b[38;5;132;01m{\u001b[39;00mfile\u001b[38;5;132;01m}\u001b[39;00m\u001b[38;5;124m by default \u001b[39m\u001b[38;5;124m\"\u001b[39m\n\u001b[0;32m    320\u001b[0m         \u001b[38;5;124m\"\u001b[39m\u001b[38;5;124mas it is likely to crash IPython. If you know what you are doing, \u001b[39m\u001b[38;5;124m\"\u001b[39m\n\u001b[0;32m    321\u001b[0m         \u001b[38;5;124m\"\u001b[39m\u001b[38;5;124myou can use builtins\u001b[39m\u001b[38;5;124m'\u001b[39m\u001b[38;5;124m open.\u001b[39m\u001b[38;5;124m\"\u001b[39m\n\u001b[0;32m    322\u001b[0m     )\n\u001b[1;32m--> 324\u001b[0m \u001b[38;5;28;01mreturn\u001b[39;00m \u001b[43mio_open\u001b[49m\u001b[43m(\u001b[49m\u001b[43mfile\u001b[49m\u001b[43m,\u001b[49m\u001b[43m \u001b[49m\u001b[38;5;241;43m*\u001b[39;49m\u001b[43margs\u001b[49m\u001b[43m,\u001b[49m\u001b[43m \u001b[49m\u001b[38;5;241;43m*\u001b[39;49m\u001b[38;5;241;43m*\u001b[39;49m\u001b[43mkwargs\u001b[49m\u001b[43m)\u001b[49m\n",
      "\u001b[1;31mFileNotFoundError\u001b[0m: [Errno 2] No such file or directory: 'training_metrics.json'"
     ]
    }
   ],
   "source": [
    "import json\n",
    "\n",
    "# Load existing metrics from file\n",
    "with open(\"training_metrics.json\", \"r\") as f:\n",
    "    metrics_data = json.load(f)\n",
    "\n",
    "# Append new items\n",
    "metrics_data[\"captions_text\"] = captions_text[5]\n",
    "metrics_data[\"epoch_losses\"] = epoch_losses\n",
    "metrics_data[\"epoch_bleus\"] = epoch_bleus\n",
    "metrics_data[\"total_training_time\"] = total_training_time\n",
    "\n",
    "# Save back to file\n",
    "with open(\"training_metrics.json\", \"w\") as f:\n",
    "    json.dump(metrics_data, f)"
   ]
  },
  {
   "cell_type": "markdown",
   "id": "89b74a9d",
   "metadata": {
    "id": "89b74a9d"
   },
   "source": [
    "## Evaluation\n",
    "We evaluate with BLEU score on the dev set (demo only)."
   ]
  },
  {
   "cell_type": "markdown",
   "id": "xxGm3wmUxL-T",
   "metadata": {
    "id": "xxGm3wmUxL-T"
   },
   "source": [
    "BLEU-4 for later with larger epochs"
   ]
  },
  {
   "cell_type": "code",
   "execution_count": null,
   "id": "1aa1e44c",
   "metadata": {
    "colab": {
     "base_uri": "https://localhost:8080/"
    },
    "id": "1aa1e44c",
    "outputId": "f00998df-85cf-45d9-c5b6-d7231984bc8a"
   },
   "outputs": [],
   "source": [
    "from nltk.translate.bleu_score import sentence_bleu\n",
    "\n",
    "def evaluate(loader, n=5):\n",
    "    encoder.eval(); decoder.eval()\n",
    "    scores = []\n",
    "    with torch.no_grad():\n",
    "        for i,(imgs,caps) in enumerate(loader):\n",
    "            if i>=n: break\n",
    "            imgs, caps = imgs.to(device), caps.to(device)\n",
    "            feats = encoder(imgs)\n",
    "            outputs = decoder(feats, caps[:,:-1])\n",
    "            preds = outputs.argmax(2).cpu().numpy()\n",
    "            refs = caps.cpu().numpy()\n",
    "            for r,p in zip(refs,preds):\n",
    "                scores.append(sentence_bleu([r.tolist()], p.tolist(), weights=(0.5,0.5)))\n",
    "    return sum(scores)/len(scores)\n",
    "\n",
    "bleu = evaluate(dev_loader)\n",
    "print('Demo BLEU score:', bleu)"
   ]
  },
  {
   "cell_type": "markdown",
   "id": "f9e2df18",
   "metadata": {},
   "source": [
    "# Inference time \n",
    "You can compute the inference time by measuring how long it takes to generate captions for a batch of images using your trained model."
   ]
  },
  {
   "cell_type": "code",
   "execution_count": null,
   "id": "c273b108",
   "metadata": {},
   "outputs": [],
   "source": [
    "import time\n",
    "\n",
    "encoder.eval(); decoder.eval()\n",
    "with torch.no_grad():\n",
    "    imgs, caps = next(iter(dev_loader))  # Get one batch from dev set\n",
    "    imgs = imgs.to(device)\n",
    "    start_time = time.time()\n",
    "    feats = encoder(imgs)\n",
    "    outputs = decoder(feats, caps[:,:-1].to(device))\n",
    "    inference_time = time.time() - start_time\n",
    "\n",
    "print(f\"Inference time for batch: {inference_time:.4f} seconds\")\n",
    "\n",
    "\"\"\"\n",
    "This measures the time to run the encoder and decoder on one batch.\n",
    "For per-image time, divide by batch size:\n",
    "\"\"\"\n",
    "print(f\"Inference time per image: {inference_time / imgs.size(0):.4f} seconds\")\n"
   ]
  },
  {
   "cell_type": "markdown",
   "id": "caec73d5",
   "metadata": {},
   "source": [
    "## Inference time together with audio generation"
   ]
  },
  {
   "cell_type": "code",
   "execution_count": null,
   "id": "930977d6",
   "metadata": {},
   "outputs": [],
   "source": [
    "from gtts import gTTS\n",
    "from IPython.display import Audio, display\n",
    "import time\n",
    "\n",
    "# Suppose captions_text contains all generated text descriptions\n",
    "audio_generation_times = []\n",
    "\n",
    "for i, caption in enumerate(captions_text):\n",
    "    start_time = time.time()\n",
    "    tts = gTTS(text=caption, lang='en')\n",
    "    audio_file = f\"caption_audio_{i+1}.mp3\"\n",
    "    tts.save(audio_file)\n",
    "    audio_generation_time = time.time() - start_time\n",
    "    audio_generation_times.append(audio_generation_time)\n",
    "    print(f\"Caption {i+1}: {caption} (Audio generation time: {audio_generation_time:.4f} seconds)\")\n",
    "    display(Audio(audio_file, autoplay=True))\n",
    "\n",
    "# Example: print average audio generation time\n",
    "print(f\"Average audio generation time: {sum(audio_generation_times)/len(audio_generation_times):.4f} seconds\")"
   ]
  },
  {
   "cell_type": "markdown",
   "id": "LFW31YN5dCl8",
   "metadata": {
    "id": "LFW31YN5dCl8"
   },
   "source": [
    "## Intelligence Demo"
   ]
  },
  {
   "cell_type": "code",
   "execution_count": null,
   "id": "e3bc018d",
   "metadata": {},
   "outputs": [],
   "source": [
    "from gtts import gTTS\n",
    "from IPython.display import Audio, display\n",
    "import matplotlib.pyplot as plt\n",
    "\n",
    "# Get a batch from the test loader\n",
    "imgs, caps = next(iter(test_loader))\n",
    "imgs = imgs.to(device)\n",
    "encoder.eval(); decoder.eval()\n",
    "captions_text = []\n",
    "with torch.no_grad():\n",
    "    feats = encoder(imgs)\n",
    "    outputs = decoder(feats, caps[:,:-1].to(device))\n",
    "    batch_size = outputs.shape[0]\n",
    "    for idx in range(batch_size):\n",
    "        pred_indices = outputs[idx].argmax(dim=1).cpu().numpy()\n",
    "        caption_words = [inv_vocab.get(j, '') for j in pred_indices if j != 0]\n",
    "        caption_text = ' '.join(caption_words)\n",
    "        captions_text.append(caption_text)\n",
    "\n",
    "# Display image, caption, and play audio for first 5 outputs\n",
    "for i in range(min(5, batch_size)):\n",
    "    img_np = imgs[i].cpu().permute(1,2,0).numpy()\n",
    "    img_np = img_np * [0.229, 0.224, 0.225] + [0.485, 0.456, 0.406]\n",
    "    img_np = img_np.clip(0, 1)\n",
    "    plt.figure()\n",
    "    plt.imshow(img_np)\n",
    "    plt.axis('off')\n",
    "    plt.title(f\"Caption: {captions_text[i]}\")\n",
    "    plt.show()\n",
    "    tts = gTTS(text=captions_text[i], lang='en')\n",
    "    audio_file = f\"caption_audio_{i+1}.mp3\"\n",
    "    tts.save(audio_file)\n",
    "    print(f\"Caption {i+1}: {captions_text[i]}\")\n",
    "    display(Audio(audio_file, autoplay=True))"
   ]
  }
 ],
 "metadata": {
  "colab": {
   "provenance": []
  },
  "kernelspec": {
   "display_name": "Python 3",
   "language": "python",
   "name": "python3"
  },
  "language_info": {
   "codemirror_mode": {
    "name": "ipython",
    "version": 3
   },
   "file_extension": ".py",
   "mimetype": "text/x-python",
   "name": "python",
   "nbconvert_exporter": "python",
   "pygments_lexer": "ipython3",
   "version": "3.12.10"
  }
 },
 "nbformat": 4,
 "nbformat_minor": 5
}
